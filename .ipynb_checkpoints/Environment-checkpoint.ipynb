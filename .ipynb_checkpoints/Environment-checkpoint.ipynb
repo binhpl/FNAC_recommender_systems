{
 "cells": [
  {
   "cell_type": "code",
   "execution_count": 21,
   "metadata": {},
   "outputs": [],
   "source": [
    "import numpy as np"
   ]
  },
  {
   "cell_type": "code",
   "execution_count": 22,
   "metadata": {},
   "outputs": [],
   "source": [
    "category_dict = {}\n",
    "category_dict[\"Informatique\"] = [\"Tablette\", \"Ordinateur\", \"Portable\"]\n",
    "category_dict[\"Film\"] = [\"DVD\", \"TV\", \"Cinéma\"]"
   ]
  },
  {
   "cell_type": "code",
   "execution_count": 23,
   "metadata": {},
   "outputs": [],
   "source": [
    "def count(y):\n",
    "    return sum([len(y.get(x, 0)) for x in y])"
   ]
  },
  {
   "cell_type": "code",
   "execution_count": 24,
   "metadata": {},
   "outputs": [],
   "source": [
    "class Client:\n",
    "    def __init__(self, n_client, category_dict):\n",
    "        self.category_dict = category_dict\n",
    "        self.n_client = n_client\n",
    "        self.n_category = len(category_dict.keys())\n",
    "        self.n_commodity = count(category_dict)\n",
    "        self.preference_matrix = np.zeros((n_client, self.n_commodity))\n",
    "        \n",
    "    def generate_client_distribution():\n",
    "        np.random.uniform(0, 0.8, (n_client, self.n_category)) + "
   ]
  },
  {
   "cell_type": "code",
   "execution_count": 25,
   "metadata": {},
   "outputs": [],
   "source": [
    "C = Client(n_client=10, category_dict=category_dict)"
   ]
  },
  {
   "cell_type": "code",
   "execution_count": 27,
   "metadata": {
    "scrolled": true
   },
   "outputs": [
    {
     "data": {
      "text/plain": [
       "array([0.42221851, 0.70129594, 0.46721188, 0.2168191 , 0.11737735,\n",
       "       0.46058061, 0.75279188, 0.57031992, 0.15310695, 0.20671867])"
      ]
     },
     "execution_count": 27,
     "metadata": {},
     "output_type": "execute_result"
    }
   ],
   "source": [
    "np.random.uniform(0, 1, 10)"
   ]
  },
  {
   "cell_type": "code",
   "execution_count": null,
   "metadata": {},
   "outputs": [],
   "source": []
  }
 ],
 "metadata": {
  "kernelspec": {
   "display_name": "Python 3",
   "language": "python",
   "name": "python3"
  },
  "language_info": {
   "codemirror_mode": {
    "name": "ipython",
    "version": 3
   },
   "file_extension": ".py",
   "mimetype": "text/x-python",
   "name": "python",
   "nbconvert_exporter": "python",
   "pygments_lexer": "ipython3",
   "version": "3.7.5"
  }
 },
 "nbformat": 4,
 "nbformat_minor": 2
}
